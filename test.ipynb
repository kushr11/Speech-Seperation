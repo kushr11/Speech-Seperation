{
 "cells": [
  {
   "cell_type": "code",
   "execution_count": 1,
   "metadata": {},
   "outputs": [
    {
     "name": "stdout",
     "output_type": "stream",
     "text": [
      "Silence segment: 0.25541950113378686 - 0.5108390022675737 seconds\n",
      "Silence segment: 0.5572789115646258 - 0.6501587301587302 seconds\n",
      "Silence segment: 0.7198185941043084 - 0.9287981859410431 seconds\n",
      "Silence segment: 1.1145578231292517 - 1.253877551020408 seconds\n",
      "Silence segment: 1.6021768707482993 - 1.7647165532879818 seconds\n",
      "Silence segment: 1.8343764172335602 - 1.9272562358276644 seconds\n",
      "Silence segment: 1.9504761904761905 - 2.159455782312925 seconds\n",
      "Silence segment: 2.2987755102040817 - 2.6238548752834467 seconds\n",
      "Silence segment: 2.647074829931973 - 2.8792743764172335 seconds\n",
      "Silence segment: 3.01859410430839 - 3.1811337868480725 seconds\n",
      "Silence segment: 7.244625850340136 - 7.383945578231293 seconds\n",
      "Silence segment: 7.476825396825397 - 7.87156462585034 seconds\n",
      "Silence segment: 7.894784580498866 - 8.010884353741497 seconds\n",
      "Silence segment: 8.080544217687075 - 8.382403628117913 seconds\n",
      "Silence segment: 8.52172335600907 - 8.614603174603175 seconds\n",
      "Silence segment: 8.661043083900227 - 8.70748299319728 seconds\n",
      "Silence segment: 8.777142857142858 - 8.962902494331066 seconds\n",
      "Silence segment: 9.032562358276644 - 9.1718820861678 seconds\n",
      "Silence segment: 9.311201814058958 - 9.47374149659864 seconds\n",
      "Silence segment: 9.659501133786849 - 9.7059410430839 seconds\n"
     ]
    },
    {
     "name": "stderr",
     "output_type": "stream",
     "text": [
      "/tmp/ipykernel_3503106/4050820983.py:8: FutureWarning: Pass y=[ 0.         -0.00021362 -0.00018311 ...  0.00015259  0.00021362\n",
      "  0.        ] as keyword args. From version 0.10 passing these as positional arguments will result in an error\n",
      "  energy = librosa.feature.rms(audio, frame_length=2048, hop_length=512)[0]\n"
     ]
    }
   ],
   "source": [
    "import librosa\n",
    "\n",
    "def detect_silence(audio_file, threshold):\n",
    "    # 读取音频文件\n",
    "    audio, sr = librosa.load(audio_file)\n",
    "    \n",
    "    # 计算音频的短时能量\n",
    "    energy = librosa.feature.rms(audio, frame_length=2048, hop_length=512)[0]\n",
    "    \n",
    "    # 根据能量阈值检测静默段的位置\n",
    "    silence_segments = []\n",
    "    is_silence = True\n",
    "    start = 0\n",
    "    \n",
    "    for i in range(len(energy)):\n",
    "        if is_silence and energy[i] > threshold:\n",
    "            is_silence = False\n",
    "            start = librosa.frames_to_time(i, sr=sr)\n",
    "        elif not is_silence and energy[i] <= threshold:\n",
    "            is_silence = True\n",
    "            end = librosa.frames_to_time(i, sr=sr)\n",
    "            silence_segments.append((start, end))\n",
    "    \n",
    "    return silence_segments\n",
    "\n",
    "# 示例用法\n",
    "audio_file = '/home/xinying/Speaker_L/TIMIT_Dataset/data/cancat2/2-FAEM0_FRAM1=SA1.WAV'\n",
    "threshold = 0.01  # 设置音量阈值\n",
    "\n",
    "segments = detect_silence(audio_file, threshold)\n",
    "for segment in segments:\n",
    "    print(f\"Silence segment: {segment[0]} - {segment[1]} seconds\")"
   ]
  },
  {
   "cell_type": "code",
   "execution_count": 9,
   "metadata": {},
   "outputs": [
    {
     "name": "stdout",
     "output_type": "stream",
     "text": [
      "[(0.25541950113378686, 0.5108390022675737), (0.5572789115646258, 0.6501587301587302), (0.7198185941043084, 0.9287981859410431), (1.1145578231292517, 1.253877551020408), (1.6021768707482993, 1.7647165532879818), (1.8343764172335602, 1.9272562358276644), (1.9504761904761905, 2.159455782312925), (2.2987755102040817, 2.6238548752834467), (2.647074829931973, 2.8792743764172335), (3.01859410430839, 3.1811337868480725), (7.244625850340136, 7.383945578231293), (7.476825396825397, 7.87156462585034), (7.894784580498866, 8.010884353741497), (8.080544217687075, 8.382403628117913), (8.52172335600907, 8.614603174603175), (8.661043083900227, 8.70748299319728), (8.777142857142858, 8.962902494331066), (9.032562358276644, 9.1718820861678), (9.311201814058958, 9.47374149659864), (9.659501133786849, 9.7059410430839)]\n"
     ]
    },
    {
     "name": "stderr",
     "output_type": "stream",
     "text": [
      "/tmp/ipykernel_3503106/1641505973.py:6: FutureWarning: Pass y=[ 0.         -0.00021362 -0.00018311 ...  0.00015259  0.00021362\n",
      "  0.        ] as keyword args. From version 0.10 passing these as positional arguments will result in an error\n",
      "  energy = librosa.feature.rms(audio, frame_length=2048, hop_length=512)[0]\n"
     ]
    }
   ],
   "source": [
    "audio_file = '/home/xinying/Speaker_L/TIMIT_Dataset/data/cancat2/2-FAEM0_FRAM1=SA1.WAV'\n",
    "threshold = 0.01  # 设置音量阈值\n",
    "audio, sr = librosa.load(audio_file)\n",
    "    \n",
    "# 计算音频的短时能量\n",
    "energy = librosa.feature.rms(audio, frame_length=2048, hop_length=512)[0]\n",
    "\n",
    "# 根据能量阈值检测静默段的位置\n",
    "silence_segments = []\n",
    "is_silence = True\n",
    "start = 0\n",
    "\n",
    "for i in range(len(energy)):\n",
    "    if is_silence and energy[i] > threshold:\n",
    "        is_silence = False\n",
    "        start = librosa.frames_to_time(i, sr=sr)\n",
    "    elif not is_silence and energy[i] <= threshold:\n",
    "        is_silence = True\n",
    "        end = librosa.frames_to_time(i, sr=sr)\n",
    "        silence_segments.append((start, end))\n",
    "print(silence_segments)\n"
   ]
  },
  {
   "cell_type": "code",
   "execution_count": 13,
   "metadata": {},
   "outputs": [
    {
     "data": {
      "text/plain": [
       "(440,)"
      ]
     },
     "execution_count": 13,
     "metadata": {},
     "output_type": "execute_result"
    }
   ],
   "source": [
    "energy.shape"
   ]
  },
  {
   "cell_type": "code",
   "execution_count": 34,
   "metadata": {},
   "outputs": [
    {
     "name": "stdout",
     "output_type": "stream",
     "text": [
      "[]\n",
      "(301644,) (301644,)\n"
     ]
    },
    {
     "name": "stderr",
     "output_type": "stream",
     "text": [
      "/tmp/ipykernel_3503106/368935854.py:10: FutureWarning: Pass y=[0.         0.         0.         ... 0.01397705 0.03015137 0.01205444] as keyword args. From version 0.10 passing these as positional arguments will result in an error\n",
      "  energy = librosa.feature.rms(audio, frame_length=2048, hop_length=512)[0]\n"
     ]
    }
   ],
   "source": [
    "import librosa\n",
    "import soundfile as sf\n",
    "import numpy as np\n",
    "\n",
    "def detect_silence_intervals(audio_file, threshold, min_silence_duration):\n",
    "    # 读取音频文件\n",
    "    audio, sr = librosa.load(audio_file, sr=None)\n",
    "    \n",
    "    # 计算音频的短时能量\n",
    "    energy = librosa.feature.rms(audio, frame_length=2048, hop_length=512)[0]\n",
    "    \n",
    "    # 根据能量阈值检测静音段的位置\n",
    "    silence_intervals = []\n",
    "    is_silence = False\n",
    "    start = 0\n",
    "    \n",
    "    for i in range(len(energy)):\n",
    "        if not is_silence and energy[i] <= threshold:\n",
    "            is_silence = True\n",
    "            start = librosa.frames_to_time(i, sr=sr)\n",
    "        elif is_silence and energy[i] > threshold:\n",
    "            is_silence = False\n",
    "            end = librosa.frames_to_time(i, sr=sr)\n",
    "            \n",
    "            if end - start >= min_silence_duration:\n",
    "                silence_intervals.append((start, end))\n",
    "    \n",
    "    return silence_intervals\n",
    "\n",
    "def remove_silence_intervals(audio_file, intervals, output_file):\n",
    "    # 读取原始音频文件\n",
    "    audio, sr = librosa.load(audio_file, sr=None)\n",
    "    \n",
    "    # 创建一个布尔掩码，用于标记静音部分\n",
    "    mask = np.ones_like(audio, dtype=bool)\n",
    "    \n",
    "    # 根据静音间隔标记静音部分\n",
    "    for interval in intervals:\n",
    "        # start_frame = librosa.time_to_frames(interval[0], sr=sr)\n",
    "        # end_frame = librosa.time_to_frames(interval[1], sr=sr)\n",
    "        start_frame = int(interval[0] * sr)\n",
    "        end_frame = int(interval[1] * sr)\n",
    "        print(start_frame, end_frame,sr)\n",
    "        \n",
    "        # 将静音部分的标记置为False\n",
    "        mask[start_frame:end_frame] = False\n",
    "    \n",
    "    # 根据掩码移除静音部分\n",
    "    new_audio = audio[mask]\n",
    "    print(audio.shape, new_audio.shape)\n",
    "    \n",
    "    # 保存删除静音部分后的音频文件\n",
    "    sf.write(output_file, new_audio, sr)\n",
    "\n",
    "# 示例用法\n",
    "audio_file = '/home/xinying/Speaker2/seperate_speech/output/output.wav'\n",
    "threshold = 0.01  # 设置能量阈值\n",
    "min_silence_duration = 1.0  # 设置最小的静音间隔持续时间\n",
    "output_file = 'output/out.wav'  # 设置输出文件路径\n",
    "\n",
    "silence_intervals = detect_silence_intervals(audio_file, threshold, min_silence_duration)\n",
    "print(silence_intervals)\n",
    "remove_silence_intervals(audio_file, silence_intervals, output_file)"
   ]
  },
  {
   "cell_type": "code",
   "execution_count": 11,
   "metadata": {},
   "outputs": [
    {
     "data": {
      "text/plain": [
       "[]"
      ]
     },
     "execution_count": 11,
     "metadata": {},
     "output_type": "execute_result"
    }
   ],
   "source": [
    "segments"
   ]
  }
 ],
 "metadata": {
  "kernelspec": {
   "display_name": "py310",
   "language": "python",
   "name": "python3"
  },
  "language_info": {
   "codemirror_mode": {
    "name": "ipython",
    "version": 3
   },
   "file_extension": ".py",
   "mimetype": "text/x-python",
   "name": "python",
   "nbconvert_exporter": "python",
   "pygments_lexer": "ipython3",
   "version": "3.1.-1"
  }
 },
 "nbformat": 4,
 "nbformat_minor": 2
}
